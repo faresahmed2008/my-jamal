{
 "cells": [
  {
   "cell_type": "code",
   "execution_count": 1,
   "id": "9aed2817",
   "metadata": {},
   "outputs": [
    {
     "name": "stdout",
     "output_type": "stream",
     "text": [
      "enter the num1: 10\n",
      "enter the num2: 5\n",
      "the maximum of the numbers:  True\n",
      "the summation of the two numbers:  15\n",
      "the difference between of two numbers:  5\n",
      "the difference between of two numbers:  -5\n",
      "the multplication between of the two numbers:  50\n",
      "the division between of the two numbers:  2.0\n",
      "the division between of the two numbers:  0.5\n",
      "the remainder of the two numbers:  0\n",
      "the remainder of the two numbers:  5\n",
      "2\n",
      "-2\n",
      "2\n",
      "-2\n"
     ]
    }
   ],
   "source": [
    "num1=int(input(\"enter the num1: \"))\n",
    "num2=int(input(\"enter the num2: \"))\n",
    "res1=num1>num2\n",
    "print(\"the maximum of the numbers: \",res1)\n",
    "res2=num1+num2\n",
    "print(\"the summation of the two numbers: \",res2)\n",
    "res3=num1-num2\n",
    "print(\"the difference between of two numbers: \",res3)\n",
    "res4=num2-num1\n",
    "print(\"the difference between of two numbers: \",res4)\n",
    "res5=num1*num2\n",
    "print(\"the multplication between of the two numbers: \",res5)\n",
    "if num1!=0:\n",
    "    res6=num1/num2\n",
    "print(\"the division between of the two numbers: \",res6)\n",
    "if num2!=0:\n",
    "    res7=num2/num1\n",
    "print(\"the division between of the two numbers: \",res7)\n",
    "res8=num1%num2\n",
    "print(\"the remainder of the two numbers: \",res8)\n",
    "res9=num2%num1\n",
    "print(\"the remainder of the two numbers: \",res9)\n",
    "res10=num1=+2\n",
    "print(res10)\n",
    "res11=num1=-2\n",
    "print(res11)\n",
    "res12=num2=+2\n",
    "print(res12)\n",
    "res13=num2=-2\n",
    "print(res13)"
   ]
  },
  {
   "cell_type": "code",
   "execution_count": 2,
   "id": "e6be939e",
   "metadata": {},
   "outputs": [
    {
     "name": "stdout",
     "output_type": "stream",
     "text": [
      "enter the name: Mohamed\n",
      "Hello Mohamed in the python\n"
     ]
    }
   ],
   "source": [
    "name=input(\"enter the name: \")\n",
    "print(\"Hello \"+name+\" in the python\")"
   ]
  },
  {
   "cell_type": "code",
   "execution_count": 4,
   "id": "a626ec5d",
   "metadata": {},
   "outputs": [
    {
     "name": "stdout",
     "output_type": "stream",
     "text": [
      "enter the num1: 5\n",
      "enter the num2: 15\n",
      "enter the num3: 10\n",
      "10.0\n"
     ]
    }
   ],
   "source": [
    "num1=int(input(\"enter the num1: \"))\n",
    "num2=int(input(\"enter the num2: \"))\n",
    "num3=int(input(\"enter the num3: \"))\n",
    "sum=num1+num2+num3\n",
    "vag=sum/3\n",
    "print(vag)"
   ]
  },
  {
   "cell_type": "code",
   "execution_count": 7,
   "id": "5f6851ed",
   "metadata": {},
   "outputs": [
    {
     "name": "stdout",
     "output_type": "stream",
     "text": [
      "enter the num: 9\n",
      "odd number\n"
     ]
    }
   ],
   "source": [
    "num=int(input(\"enter the num: \"))\n",
    "if (num % 2)==0:\n",
    "    print(\"even number\")\n",
    "else:\n",
    "    print(\"odd number\")"
   ]
  },
  {
   "cell_type": "code",
   "execution_count": 2,
   "id": "f9c28b67",
   "metadata": {},
   "outputs": [
    {
     "name": "stdout",
     "output_type": "stream",
     "text": [
      "enter the number: -9\n",
      "negative numbers\n"
     ]
    }
   ],
   "source": [
    "num=float(input(\"enter the number: \"))\n",
    "if num>0:\n",
    "    print(\"positive numbers\")\n",
    "elif num==0:\n",
    "    print(\"zero number\")\n",
    "else:\n",
    "    print(\"negative numbers\")"
   ]
  },
  {
   "cell_type": "code",
   "execution_count": 1,
   "id": "7fbe4819",
   "metadata": {},
   "outputs": [
    {
     "name": "stdout",
     "output_type": "stream",
     "text": [
      "enter te temprature: 34\n",
      "enter the letter: C\n",
      "-13.11111111111111\n"
     ]
    }
   ],
   "source": [
    "def convert(t,l):\n",
    "    t=int(input(\"enter te temprature: \"))\n",
    "    l=input(\"enter the letter: \")\n",
    "    if l ==\"C\":\n",
    "        F=5/9*t-32\n",
    "        print(F)\n",
    "    elif l ==\"F\":\n",
    "        F=9/5*t+32\n",
    "        print(C)\n",
    "    else:\n",
    "        print(\"invalid\")\n",
    "convert(1,1)"
   ]
  },
  {
   "cell_type": "code",
   "execution_count": 5,
   "id": "fe6c4ca2",
   "metadata": {},
   "outputs": [
    {
     "name": "stdout",
     "output_type": "stream",
     "text": [
      "enter the current currency: USD\n",
      "enter the currency you want to convert to it: EGP\n",
      "enter the amount of mouey: 2\n",
      "61.8\n",
      "2.0 USD = 61.8 EGP\n"
     ]
    }
   ],
   "source": [
    "n=input(\"enter the current currency: \")\n",
    "n1=input(\"enter the currency you want to convert to it: \")\n",
    "amount=float(input(\"enter the amount of mouey: \"))\n",
    "if n==\"USD\":\n",
    "    x=amount*30.9\n",
    "    print(x)\n",
    "elif n==\"SEK\":\n",
    "    x=amount/0.34\n",
    "    print(x)\n",
    "elif n==\"MAD\":\n",
    "    x=amount*1.0\n",
    "    print(x)\n",
    "else:\n",
    "    print(\"invalid\")\n",
    "print(amount,n,\"=\",x,n1)"
   ]
  },
  {
   "cell_type": "code",
   "execution_count": null,
   "id": "feaacb1e",
   "metadata": {},
   "outputs": [],
   "source": []
  }
 ],
 "metadata": {
  "kernelspec": {
   "display_name": "Python 3",
   "language": "python",
   "name": "python3"
  },
  "language_info": {
   "codemirror_mode": {
    "name": "ipython",
    "version": 3
   },
   "file_extension": ".py",
   "mimetype": "text/x-python",
   "name": "python",
   "nbconvert_exporter": "python",
   "pygments_lexer": "ipython3",
   "version": "3.8.8"
  }
 },
 "nbformat": 4,
 "nbformat_minor": 5
}
